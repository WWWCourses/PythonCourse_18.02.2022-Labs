{
 "cells": [
  {
   "cell_type": "code",
   "execution_count": 3,
   "id": "8f4b619e-23a0-4ec2-acde-17586da32d3d",
   "metadata": {},
   "outputs": [],
   "source": [
    "import matplotlib as mpl\n",
    "import matplotlib.pyplot as plt"
   ]
  },
  {
   "cell_type": "code",
   "execution_count": 29,
   "id": "509c23e8-3d32-4b6f-bfbc-61d68e3bc7b2",
   "metadata": {},
   "outputs": [
    {
     "data": {
      "image/png": "[encoded data removed]",
      "text/plain": [
       "<Figure size 720x432 with 2 Axes>"
      ]
     },
     "metadata": {},
     "output_type": "display_data"
    }
   ],
   "source": [
    "fig = plt.figure(figsize=(10,6))\n",
    "fig.set_facecolor(\"#FF0000\")\n",
    "\n",
    "# add a new axes at the position 1 on a grid of 2 rows and 1 column.\n",
    "ax1 = fig.add_subplot(211)\n",
    "ax2 = fig.add_subplot(212)\n",
    "\n",
    "xl = ax2.set_xlabel('X')\n",
    "xl.set_color('yellow')\n"
   ]
  },
  {
   "cell_type": "code",
   "execution_count": null,
   "id": "98afc5d8-145a-4c96-a89a-9c5e44c05f36",
   "metadata": {},
   "outputs": [],
   "source": []
  }
 ],
 "metadata": {
  "kernelspec": {
   "display_name": "Python 3 (ipykernel)",
   "language": "python",
   "name": "python3"
  },
  "language_info": {
   "codemirror_mode": {
    "name": "ipython",
    "version": 3
   },
   "file_extension": ".py",
   "mimetype": "text/x-python",
   "name": "python",
   "nbconvert_exporter": "python",
   "pygments_lexer": "ipython3",
   "version": "3.10.4"
  }
 },
 "nbformat": 4,
 "nbformat_minor": 5
}
